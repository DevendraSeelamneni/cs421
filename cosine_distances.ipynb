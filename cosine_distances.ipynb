{
  "nbformat": 4,
  "nbformat_minor": 0,
  "metadata": {
    "colab": {
      "provenance": []
    },
    "kernelspec": {
      "name": "python3",
      "display_name": "Python 3"
    },
    "language_info": {
      "name": "python"
    }
  },
  "cells": [
    {
      "cell_type": "code",
      "execution_count": null,
      "metadata": {
        "id": "KmL-bvXS9tYl"
      },
      "outputs": [],
      "source": [
        "import os\n",
        "import torch\n",
        "import pickle\n",
        "import numpy as np\n",
        "import matplotlib.pyplot as plt\n",
        "\n",
        "# Configure Matplotlib font size\n",
        "import matplotlib\n",
        "matplotlib.rcParams.update({'font.size': 13})\n",
        "\n",
        "def plot_bert_metrics(model_path: str, layers: list, filenames: list, pos_tags: list):\n",
        "    '''Plot metrics for BERT.'''\n",
        "    colors = {\n",
        "        'antonyms': '#D55E00',\n",
        "        'synonyms': '#56B4E9',\n",
        "        'hypernyms': '#009E73',\n",
        "        'random': '#000000',\n",
        "        'unknown': '#F0E442'\n",
        "    }\n",
        "\n",
        "    fig, axs = plt.subplots(1, len(pos_tags), figsize=(15, 5))\n",
        "\n",
        "    for i, pos in enumerate(pos_tags):\n",
        "        for filename in filenames:\n",
        "            values = []\n",
        "            for layer in layers:\n",
        "                # Define the file path\n",
        "                path = f'{model_path}/{layer}/{filename}_{pos}.pkl'\n",
        "                if not os.path.exists(path):\n",
        "                    print(f\"File not found: {path}\")\n",
        "                    continue\n",
        "\n",
        "                # Load data from the pickle file\n",
        "                with open(path, 'rb') as f:\n",
        "                    data = pickle.load(f)\n",
        "\n",
        "                # Flatten and compute mean\n",
        "                if isinstance(data, list):\n",
        "                    data = np.hstack(data)  # Flatten list of arrays\n",
        "                values.append(np.mean(data))\n",
        "\n",
        "            # Plot the data if values are available\n",
        "            if values:\n",
        "                axs[i].plot(layers, values, label=filename, color=colors.get(filename, '#000000'))\n",
        "\n",
        "        axs[i].set_title(f'POS: {pos.capitalize()}')\n",
        "        axs[i].set_xlabel('Layers')\n",
        "        axs[i].set_ylabel('Self-embedding Distance (SED)')\n",
        "        axs[i].legend()\n",
        "\n",
        "    plt.tight_layout()\n",
        "    plt.savefig(f'{model_path}_sed_plot.png')\n",
        "    plt.show()\n",
        "\n",
        "if __name__ == '__main__':\n",
        "    # Define default parameters\n",
        "    model_path = '/content/project_folder/asc-lr-main/bert/cosine_distances'\n",
        "    layers = [1, 2, 3, 4]  # Default to 4 layers\n",
        "    filenames = ['antonyms', 'synonyms', 'hypernyms', 'random']\n",
        "    pos_tags = ['v', 'r', 'a', 'n']  # POS: verb, adverb, adjective, noun\n",
        "\n",
        "    # Generate the plot\n",
        "    plot_bert_metrics(model_path, layers, filenames, pos_tags)\n"
      ]
    }
  ]
}